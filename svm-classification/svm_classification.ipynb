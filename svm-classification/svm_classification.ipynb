{
 "cells": [
  {
   "cell_type": "markdown",
   "metadata": {},
   "source": [
    "# Klasyfikacja przy użyciu SVM (Maszyny Wektorów Nośnych)"
   ]
  },
  {
   "cell_type": "markdown",
   "metadata": {},
   "source": [
    "+ Autor: **Łukasz Staniszewski**\n",
    "+ Temad: **Implementacja modelu oraz metody uczącej liniowy SVM dopuszczający pomyłki, z wykorzystaniem bibliotek języka Python**\n",
    "+ Zadanie: **[LINK](https://github.com/lukasz-staniszewski/ml-algorithms-scratch/blob/main/svm-classification/task_pl.pdf)**"
   ]
  },
  {
   "cell_type": "markdown",
   "metadata": {},
   "source": [
    "## Import bibliotek\n",
    "+ **sklearn** - zbiór danych to iris, rozdzielenie zbioru\n",
    "+ **pandas** - praca nad tabelami\n",
    "+ **seaborn** - wykresy\n",
    "+ **numpy** - macierze, tablice\n",
    "+ **math** - funkcje matematyczne"
   ]
  },
  {
   "cell_type": "code",
   "execution_count": 62,
   "metadata": {},
   "outputs": [],
   "source": [
    "%matplotlib inline\n",
    "\n",
    "from sklearn.datasets import load_iris\n",
    "from sklearn.model_selection import train_test_split\n",
    "import pandas as pd\n",
    "import seaborn as sns\n",
    "import numpy as np\n",
    "import math\n",
    "import copy\n",
    "from typing import Tuple, Dict"
   ]
  },
  {
   "cell_type": "markdown",
   "metadata": {},
   "source": [
    "## Zbiór iris\n",
    "+ W tym miejscu zostanie pobrany zbiór iris, jego elementy zestawione w formie tabeli:"
   ]
  },
  {
   "cell_type": "code",
   "execution_count": 63,
   "metadata": {
    "scrolled": true
   },
   "outputs": [
    {
     "data": {
      "text/html": [
       "<div>\n",
       "<style scoped>\n",
       "    .dataframe tbody tr th:only-of-type {\n",
       "        vertical-align: middle;\n",
       "    }\n",
       "\n",
       "    .dataframe tbody tr th {\n",
       "        vertical-align: top;\n",
       "    }\n",
       "\n",
       "    .dataframe thead th {\n",
       "        text-align: right;\n",
       "    }\n",
       "</style>\n",
       "<table border=\"1\" class=\"dataframe\">\n",
       "  <thead>\n",
       "    <tr style=\"text-align: right;\">\n",
       "      <th></th>\n",
       "      <th>sepal length (cm)</th>\n",
       "      <th>sepal width (cm)</th>\n",
       "      <th>petal length (cm)</th>\n",
       "      <th>petal width (cm)</th>\n",
       "      <th>class</th>\n",
       "    </tr>\n",
       "    <tr>\n",
       "      <th>iris index</th>\n",
       "      <th></th>\n",
       "      <th></th>\n",
       "      <th></th>\n",
       "      <th></th>\n",
       "      <th></th>\n",
       "    </tr>\n",
       "  </thead>\n",
       "  <tbody>\n",
       "    <tr>\n",
       "      <th>0</th>\n",
       "      <td>5.1</td>\n",
       "      <td>3.5</td>\n",
       "      <td>1.4</td>\n",
       "      <td>0.2</td>\n",
       "      <td>setosa</td>\n",
       "    </tr>\n",
       "    <tr>\n",
       "      <th>1</th>\n",
       "      <td>4.9</td>\n",
       "      <td>3.0</td>\n",
       "      <td>1.4</td>\n",
       "      <td>0.2</td>\n",
       "      <td>setosa</td>\n",
       "    </tr>\n",
       "    <tr>\n",
       "      <th>2</th>\n",
       "      <td>4.7</td>\n",
       "      <td>3.2</td>\n",
       "      <td>1.3</td>\n",
       "      <td>0.2</td>\n",
       "      <td>setosa</td>\n",
       "    </tr>\n",
       "    <tr>\n",
       "      <th>3</th>\n",
       "      <td>4.6</td>\n",
       "      <td>3.1</td>\n",
       "      <td>1.5</td>\n",
       "      <td>0.2</td>\n",
       "      <td>setosa</td>\n",
       "    </tr>\n",
       "    <tr>\n",
       "      <th>4</th>\n",
       "      <td>5.0</td>\n",
       "      <td>3.6</td>\n",
       "      <td>1.4</td>\n",
       "      <td>0.2</td>\n",
       "      <td>setosa</td>\n",
       "    </tr>\n",
       "  </tbody>\n",
       "</table>\n",
       "</div>"
      ],
      "text/plain": [
       "            sepal length (cm)  sepal width (cm)  petal length (cm)  \\\n",
       "iris index                                                           \n",
       "0                         5.1               3.5                1.4   \n",
       "1                         4.9               3.0                1.4   \n",
       "2                         4.7               3.2                1.3   \n",
       "3                         4.6               3.1                1.5   \n",
       "4                         5.0               3.6                1.4   \n",
       "\n",
       "            petal width (cm)   class  \n",
       "iris index                            \n",
       "0                        0.2  setosa  \n",
       "1                        0.2  setosa  \n",
       "2                        0.2  setosa  \n",
       "3                        0.2  setosa  \n",
       "4                        0.2  setosa  "
      ]
     },
     "execution_count": 63,
     "metadata": {},
     "output_type": "execute_result"
    }
   ],
   "source": [
    "iris_set = load_iris()\n",
    "df_iris = pd.DataFrame(iris_set['data'], columns=iris_set.feature_names)\n",
    "pd.set_option(\"display.max_rows\", None)\n",
    "df_iris.index.name = 'iris index'\n",
    "df_iris['class'] = [iris_set.target_names[id] for id in iris_set.target]\n",
    "\n",
    "df_iris.head()"
   ]
  },
  {
   "cell_type": "markdown",
   "metadata": {},
   "source": [
    "Niżej wykresy (w 2D) jak wyglądają poszczególne klasy w zależności od różnych parametrów:\n",
    "+ optymalizowana będzie hiperpłaszczyzna ze względu na wszystkie z 4 parametrów ($x_1, x_2, x_3, x_4$), ale nie ma możliwości zobrazowania wykresu w więcej niż 3 wymiarach, dlatego są pokazywane w dwóch."
   ]
  },
  {
   "cell_type": "code",
   "execution_count": 64,
   "metadata": {
    "scrolled": true
   },
   "outputs": [
    {
     "data": {
      "text/plain": [
       "<seaborn.axisgrid.FacetGrid at 0x178fcdb5270>"
      ]
     },
     "execution_count": 64,
     "metadata": {},
     "output_type": "execute_result"
    },
    {
     "data": {
      "image/png": "[encoded data removed]",
      "text/plain": [
       "<Figure size 446.85x360 with 1 Axes>"
      ]
     },
     "metadata": {},
     "output_type": "display_data"
    },
    {
     "data": {
      "image/png": "[encoded data removed]",
      "text/plain": [
       "<Figure size 446.85x360 with 1 Axes>"
      ]
     },
     "metadata": {},
     "output_type": "display_data"
    },
    {
     "data": {
      "image/png": "[encoded data removed]",
      "text/plain": [
       "<Figure size 446.85x360 with 1 Axes>"
      ]
     },
     "metadata": {},
     "output_type": "display_data"
    },
    {
     "data": {
      "image/png": "[encoded data removed]",
      "text/plain": [
       "<Figure size 446.85x360 with 1 Axes>"
      ]
     },
     "metadata": {},
     "output_type": "display_data"
    },
    {
     "data": {
      "image/png": "[encoded data removed]",
      "text/plain": [
       "<Figure size 446.85x360 with 1 Axes>"
      ]
     },
     "metadata": {},
     "output_type": "display_data"
    },
    {
     "data": {
      "image/png": "[encoded data removed]",
      "text/plain": [
       "<Figure size 446.85x360 with 1 Axes>"
      ]
     },
     "metadata": {},
     "output_type": "display_data"
    }
   ],
   "source": [
    "sns.set(rc={'figure.figsize':(8, 8)})\n",
    "sns.lmplot(x='sepal length (cm)', y='petal length (cm)', data=df_iris, hue='class', palette = \"icefire\", fit_reg=False, scatter_kws={\"s\":70})\n",
    "sns.lmplot(x='sepal width (cm)', y='petal width (cm)', data=df_iris, hue='class', palette = \"icefire\", fit_reg=False, scatter_kws={\"s\":70})\n",
    "sns.lmplot(x='sepal length (cm)', y='sepal width (cm)', data=df_iris, hue='class', palette = \"icefire\", fit_reg=False, scatter_kws={\"s\":70})\n",
    "sns.lmplot(x='petal length (cm)', y='petal width (cm)', data=df_iris, hue='class', palette = \"icefire\", fit_reg=False, scatter_kws={\"s\":70})\n",
    "sns.lmplot(x='petal length (cm)', y='sepal width (cm)', data=df_iris, hue='class', palette = \"icefire\", fit_reg=False, scatter_kws={\"s\":70})\n",
    "sns.lmplot(x='sepal length (cm)', y='petal width (cm)', data=df_iris, hue='class', palette = \"icefire\", fit_reg=False, scatter_kws={\"s\":70})\n"
   ]
  },
  {
   "cell_type": "markdown",
   "metadata": {},
   "source": [
    "## Zdefiniowanie problemu\n",
    "+ Zadanie polega na znalezieniu funkcji $ f(x)={w^{T}x-b}$, która tworzy hiperpłaszczyznę zapewniającą klasyfikację (dopuszczającą pomyłki) z użyciem maszyny wektorów nośnych SVM.\n",
    "\n",
    "+ Otrzymana funkcja powinna zapewniać jak najmniejszą liczbę pomyłek przy klasyfikowaniu elementów zbioru IRIS do odpowiedniej klasy. Klasyfikacja odbywa się poprzez zwrócenie dla danego zestawu cech ($x$) - grupy ( $ y(x) = -1 \\lor y(x) = 1 $ ) do której należy za pomocą funkcji: \n",
    "$$\n",
    "y(x)=\n",
    "\\left\\{ \n",
    "\\begin{array}{c}\n",
    "-1\\text{,} f(x)<0 \\\\ \n",
    "1\\text{,} f(x)\\geq0 \\\\\n",
    "\\end{array}\n",
    "\\right. \n",
    "$$\n",
    "\n",
    "+ Aby otrzymać funkcję $f(x)$ należy znaleźć parametry $w$ i $b$, które minimalizują funkcję straty:\n",
    "$$ (w,b)= \\underset{w,b}{\\operatorname{argmin}} \\space J(w,b)$$\n",
    "$$ J(w,b)=\\Sigma_i \\operatorname{max}\\{1-f(x_i) \\cdot y_i, 0\\} + \\lambda \\cdot ||w||^2 $$\n",
    "\n",
    "+ Aby zoptymalizować owe parametry, zastosowana zostanie **metoda gradientu prostego**, w tym celu potrzebny będzie gradient funkcji $J(w,b)$:\n",
    "$$\n",
    "\\nabla J = \n",
    "\\begin{bmatrix} \n",
    "    \\partial J \\over \\partial w_1 \\\\\n",
    "    ... \\\\ \n",
    "    \\partial J \\over \\partial w_n \\\\\n",
    "    \\\\\n",
    "    \\partial J \\over \\partial b\n",
    "\\end{bmatrix}\n",
    "$$\n",
    "\n",
    "+ A pochodne cząstkowe te prezentują się następująco: \n",
    "$$\n",
    "{\\partial J \\over \\partial w_i} = {\\lambda \\cdot 2 \\cdot w_i} + \\Sigma_k(1 \\cdot \n",
    "\n",
    "\\left\\{ \n",
    "\\begin{array}{c}\n",
    "0, 1-f(x_k)y_k \\leqslant 0 \\\\ \n",
    "-y_k \\cdot x_{k[i]}, 1-f(x_k)y_k > 0 \\\\\n",
    "\\end{array}\n",
    "\\right. \n",
    "\n",
    ")\n",
    "$$\n",
    "\n",
    "$$\n",
    "{\\partial J \\over \\partial b} = \\Sigma_k(1 \\cdot \n",
    "\n",
    "\\left\\{ \n",
    "\\begin{array}{c}\n",
    "0, 1-f(x_k)y_k \\leqslant 0 \\\\ \n",
    "y_k, 1-f(x_k)y_k > 0 \\\\\n",
    "\\end{array}\n",
    "\\right. \n",
    "\n",
    ")\n",
    "$$"
   ]
  },
  {
   "cell_type": "markdown",
   "metadata": {},
   "source": [
    "## Klasa SVM"
   ]
  },
  {
   "cell_type": "code",
   "execution_count": 104,
   "metadata": {},
   "outputs": [],
   "source": [
    "MINIMIZER_PARAMS_DEFAULT = {\n",
    "    \"beta\": 0.01,\n",
    "    \"max_steps\": 10000,\n",
    "    \"min_epsilon\": 1e-20,\n",
    "}\n",
    "\n",
    "PRED_MAPPER_PARAMS_DEFAULT = {1: 1, -1: 0}"
   ]
  },
  {
   "cell_type": "code",
   "execution_count": 123,
   "metadata": {},
   "outputs": [],
   "source": [
    "class SVM:\n",
    "    \"\"\"Class represents SVM model.\"\"\"\n",
    "\n",
    "    def __init__(\n",
    "        self,\n",
    "        lambd: float,\n",
    "        minimizer_params: dict = {},\n",
    "        mapper_params: dict = {}\n",
    "    ) -> None:\n",
    "        \"\"\"Class SVM constructor.\n",
    "        Args:\n",
    "            lambd (float): lambda penalty hiperparameter\n",
    "            minimizer_params (dict, optional): parameters for gradient descent minimizer.\n",
    "                Defaults to {\"beta\": 0.01, \"max_steps\": 10000, \"min_epsilon\": 1e-20}.\n",
    "            mapper_params (dict, optional): parameters predictions mapper.\n",
    "                Defaults to {1: 1, -1: 0}.\n",
    "        \"\"\"\n",
    "        self.W = None\n",
    "        self.b = None\n",
    "        self.lambd = lambd\n",
    "        self._set_minimizer_params(**minimizer_params)\n",
    "        self._set_mapper_params(mapper_params)\n",
    "\n",
    "    def _set_minimizer_params(self, **kwargs) -> None:\n",
    "        \"\"\"Function setting minimizer params.\"\"\"\n",
    "        self._set_beta(beta=MINIMIZER_PARAMS_DEFAULT[\"beta\"])\n",
    "        self._set_max_steps(max_steps=MINIMIZER_PARAMS_DEFAULT[\"max_steps\"])\n",
    "        self._set_min_epsilon(epsilon=MINIMIZER_PARAMS_DEFAULT[\"min_epsilon\"])\n",
    "        default_params = {\n",
    "            \"beta\": self._set_beta,\n",
    "            \"max_steps\": self._set_max_steps,\n",
    "            \"min_epsilon\": self._set_min_epsilon,\n",
    "        }\n",
    "        for key, item in kwargs.items():\n",
    "            if key not in default_params.keys():\n",
    "                raise Exception(\n",
    "                    \"Possible keys in dict are only 'beta', 'max_steps'\"\n",
    "                    \" and 'min_epsilon'!\"\n",
    "                )\n",
    "            if type(item) is not int and type(item) is not float:\n",
    "                raise Exception(\n",
    "                    \"Possible values for minimizer params dict items\"\n",
    "                    \" are int or float!\"\n",
    "                )\n",
    "            default_params[key](item)\n",
    "\n",
    "    def _set_mapper_params(self, usr_mapped_params: dict) -> None:\n",
    "        \"\"\"Function setting mapper params.\n",
    "        Args:\n",
    "            usr_mapped_params (dict): params for mapper provided by user\n",
    "        \"\"\"\n",
    "        mapper_params = copy.copy(PRED_MAPPER_PARAMS_DEFAULT)\n",
    "        for key, item in usr_mapped_params.items():\n",
    "            if key not in mapper_params.keys():\n",
    "                raise Exception(\n",
    "                    \"Possible keys in dict are only 1 and -1!\"\n",
    "                )\n",
    "            if type(key) is not int or type(item) is not int:\n",
    "                raise Exception(\n",
    "                    \"Keys and items in dict should be int!\"\n",
    "                )\n",
    "            mapper_params[key] = item\n",
    "        self._mapper = mapper_params\n",
    "\n",
    "    def _set_beta(self, beta: float) -> None:\n",
    "        \"\"\"Beta setter.\n",
    "        Args:\n",
    "            beta (float): new optimizer's beta param\n",
    "        \"\"\"\n",
    "        self.beta = beta\n",
    "\n",
    "    def _set_max_steps(self, max_steps: int) -> None:\n",
    "        \"\"\"Max steps setter.\n",
    "        Args:\n",
    "            max_steps (int): new optimizer's max_steps param\n",
    "        \"\"\"\n",
    "        self.max_steps = max_steps\n",
    "\n",
    "    def _set_min_epsilon(self, epsilon: float) -> None:\n",
    "        \"\"\"Minimal epsilon setter.\n",
    "        Args:\n",
    "            epsilon (float): new optimizer's min_epsilon param\n",
    "        \"\"\"\n",
    "        self.min_epsilon = epsilon\n",
    "\n",
    "    def _gradient_descent_minimize(self, X: np.ndarray, y: np.ndarray) -> None:\n",
    "        \"\"\"Method performing optimization using gradient descent.\n",
    "        Args:\n",
    "            X (np.ndarray): matrix of samples with atributes\n",
    "            y (np.ndarray): samples targets\n",
    "        \"\"\"\n",
    "        step = 0\n",
    "        while 1:\n",
    "            step += 1\n",
    "            gradient_W, gradient_b = self._jacobian_f(X=X, y=y)\n",
    "            if np.linalg.norm(gradient_W) < self.min_epsilon or step > self.max_steps:\n",
    "                break\n",
    "            self.W = self.W - self.beta * gradient_W\n",
    "            self.b = self.b - self.beta * gradient_b\n",
    "\n",
    "    def _f(self, X: np.ndarray) -> np.ndarray:\n",
    "        \"\"\"Method counts function value.\n",
    "        Args:\n",
    "            X (np.ndarray): matrix of samples with attributes\n",
    "        Returns:\n",
    "            np.ndarray: function values for samples\n",
    "        \"\"\"\n",
    "        if len(X.shape) != 2 or X.shape[1] != self.W.shape[0]:\n",
    "            raise Exception(\n",
    "                \"Provided X is not in shape (n, 1) or X columns not\"\n",
    "                \" matching model parameters!\"\n",
    "            )\n",
    "        return np.dot(X, self.W) - self.b\n",
    "\n",
    "    def _classify_y(self, X: np.ndarray) -> np.ndarray:\n",
    "        \"\"\"Method correcting model out to {-1,1}.\n",
    "        Args:\n",
    "            X (np.ndarray): matrix of samples with attributes\n",
    "        Returns:\n",
    "            np.ndarray: targets for samples\n",
    "        \"\"\"\n",
    "        return 2 * (self._f(X=X) > 0) - 1\n",
    "\n",
    "    def _jacobian_f(self, X: np.ndarray, y: np.ndarray) -> Tuple[np.ndarray, float]:\n",
    "        \"\"\"Method counts jacobian value.\n",
    "        Args:\n",
    "            X (np.ndarray): matrix of samples with attributes\n",
    "            y (np.ndarray): targets for samples\n",
    "        Returns:\n",
    "            tuple[np.ndarray, float]: tuple containing gradients w.r.t. W and b\n",
    "        \"\"\"\n",
    "\n",
    "        # numpy array of partial derivatives\n",
    "        partials_W = np.zeros_like(self.W, dtype=np.float64)\n",
    "        partial_b = 0.0\n",
    "\n",
    "        # counting gradients for w1, w2, ..., wn\n",
    "        distances = 1 - np.multiply(y, self._f(X))\n",
    "        distances = distances.reshape((distances.shape[0],))\n",
    "        x_w_part = np.zeros_like(X)  # sum = 2 * λ * wi + (0 or iyx) over all samples\n",
    "        x_w_part[np.where(distances > 0)] -= (y * X)[np.where(distances > 0)]\n",
    "        partials_W = 2 * self.lambd * self.W + np.sum(x_w_part, axis=0).reshape(\n",
    "            self.W.shape\n",
    "        )\n",
    "\n",
    "        # counting gradient for b\n",
    "        x_b_part = np.zeros_like(y, dtype=np.float64)\n",
    "        x_b_part[np.where(distances > 0)] += y[np.where(distances > 0)]\n",
    "        partial_b = np.sum(x_b_part, axis=0)\n",
    "\n",
    "        return partials_W, partial_b\n",
    "\n",
    "    def _check_model_initialization(\n",
    "        self, W: np.ndarray, b: float, X: np.ndarray = None\n",
    "    ) -> None:\n",
    "        if len(W.shape) != 2 or W.shape[1] != 1:\n",
    "            raise Exception(\n",
    "                \"Provided parameters for model should be in shape\" \" (n, 1)!\"\n",
    "            )\n",
    "        if W.dtype != np.float64:\n",
    "            raise Exception(\n",
    "                \"Provided parameters for model should be np.float64!\"\n",
    "            )\n",
    "\n",
    "    def initialize_model(self, W: np.ndarray, b: float, X: np.ndarray = None) -> None:\n",
    "        \"\"\"Model parameters initializer.\n",
    "        Args:\n",
    "            W (np.ndarray): weights for attributes,\n",
    "                should be np.float64 matrix of shape (model_dim, 1)\n",
    "            b (float): bias for model parameters\n",
    "            X (np.ndarray, optional): dataset, from which columns attributes will be drawn.\n",
    "                Defaults to None.\n",
    "        \"\"\"\n",
    "        self._check_model_initialization(W=W, b=b, X=X)\n",
    "        self.W = W\n",
    "        self.b = b\n",
    "\n",
    "\n",
    "    def fit(\n",
    "        self,\n",
    "        X: np.ndarray,\n",
    "        y: np.ndarray,\n",
    "        is_model_to_init: bool = True,\n",
    "    ):\n",
    "        \"\"\"Function performs fitting model to given dataset.\n",
    "        Args:\n",
    "            X (np.ndarray): matrix of samples with attributes\n",
    "            y (np.ndarray): targets for samples\n",
    "            is_model_to_init (bool, optional): whether to initialize model parameters with zeros,\n",
    "                set to False if model was initialized beforehand. Defaults to True.\n",
    "        \"\"\"\n",
    "        if (self.W is None or self.b is None) and not is_model_to_init:\n",
    "            raise Exception(\n",
    "                \"You have to init model before fit or set\" \" is_model_to_init to True.\"\n",
    "            )\n",
    "        y_copy = copy.copy(y)\n",
    "        X_sliced = copy.copy(X.to_numpy(dtype=np.float64))\n",
    "        if is_model_to_init:\n",
    "            self.initialize_model(\n",
    "                W=np.zeros(shape=(X_sliced.shape[1], 1), dtype=np.float64),\n",
    "                b=0.0,\n",
    "            )\n",
    "        self._gradient_descent_minimize(X=X_sliced, y=y_copy)\n",
    "\n",
    "    def predict(self, X: np.ndarray) -> np.ndarray:\n",
    "        \"\"\"Function performs prediction of model on given dataset.\n",
    "        Args:\n",
    "            X (np.ndarray): matrix of inputs with attributes\n",
    "        Returns:\n",
    "            np.ndarray: predictions for given inputs\n",
    "        \"\"\"\n",
    "        if self.W is None or self.b is None:\n",
    "            raise Exception(\"SVM is neither initialized nor fitted.\")\n",
    "        X_sliced = copy.copy(X.to_numpy(dtype=np.float64))\n",
    "        if len(X_sliced.shape) == 1:\n",
    "            X_sliced = np.expand_dims(X_sliced, axis=0)\n",
    "        return np.vectorize(self._mapper.__getitem__)(\n",
    "            self._classify_y(X=X_sliced)\n",
    "        ).squeeze()\n",
    "\n",
    "    @staticmethod\n",
    "    def correct_targets_num(targets: np.ndarray) -> np.ndarray:\n",
    "        \"\"\"Function correcting numerical targets of dataset to be compatible with SVM.\n",
    "        Args:\n",
    "            targets (np.ndarray): array of targets with only -1 and 1 with shape (n,1)\n",
    "        Returns:\n",
    "            np.ndarray: array of targets from dataset\n",
    "        \"\"\"\n",
    "        targets = np.where(targets > 0, 1, -1).astype(np.int64)\n",
    "        return targets.reshape((targets.shape[0], 1))\n",
    "    \n",
    "    @staticmethod\n",
    "    def correct_targets_cat(targets: np.ndarray, how: Dict[str,str]) -> np.ndarray:\n",
    "        \"\"\"Function correcting categorical targets of dataset to be compatible with SVM.\n",
    "        Args:\n",
    "            targets (np.ndarray): array of targets with how argument keys with shape (n,1)\n",
    "            how (Dict[str, str]): dictionary with keys as categories and values as category 1 or -1\n",
    "        Returns:\n",
    "            np.ndarray: array of targets from dataset\n",
    "        \"\"\"\n",
    "        for key, value in how.items():\n",
    "            if key not in list(targets):\n",
    "                raise Exception(\"No such category in dataset!\")\n",
    "            if value not in [-1, 1]:\n",
    "                raise Exception(\"New category value should be -1 or 1!\")\n",
    "            targets = np.where(targets == key, value, targets)\n",
    "        return targets.reshape((targets.shape[0], 1)).astype(np.int64)"
   ]
  },
  {
   "cell_type": "markdown",
   "metadata": {},
   "source": [
    "## Trenowanie i testowanie:\n",
    "#### Train, valid, test split"
   ]
  },
  {
   "cell_type": "code",
   "execution_count": 124,
   "metadata": {},
   "outputs": [],
   "source": [
    "df_setosa = df_iris.loc[df_iris['class']=='setosa']              # set of setosa\n",
    "df_versicolor = df_iris.loc[df_iris['class']=='versicolor']      # set of versicolor\n",
    "df_virginica = df_iris.loc[df_iris['class']=='virginica']        # set of virginica\n",
    "\n",
    "df_setver = pd.concat([df_setosa, df_versicolor])                # set of setosa and versicolor\n",
    "df_setvir = pd.concat([df_setosa, df_virginica])                 # set of setosa and virginica\n",
    "df_vervir = pd.concat([df_versicolor, df_virginica])             # set of versicolor and virginica"
   ]
  },
  {
   "cell_type": "code",
   "execution_count": 125,
   "metadata": {},
   "outputs": [],
   "source": [
    "X_setver, y_setver = df_setver.drop(columns=[\"class\"]), df_setver[\"class\"]\n",
    "X_setvir, y_setvir = df_setvir.drop(columns=[\"class\"]), df_setvir[\"class\"]\n",
    "X_vervir, y_vervir = df_vervir.drop(columns=[\"class\"]), df_vervir[\"class\"]\n",
    "\n",
    "X_trainval_setver, X_test_setver, y_valtrain_setver, y_test_setver = train_test_split(X_setver, y_setver, test_size=0.2, random_state=42)\n",
    "X_train_setver, X_val_setver, y_train_setver, y_val_setver = train_test_split(X_trainval_setver, y_valtrain_setver, test_size=0.2, random_state=42)\n",
    "\n",
    "X_trainval_setvir, X_test_setvir, y_valtrain_setvir, y_test_setvir = train_test_split(X_setvir, y_setvir, test_size=0.2, random_state=42)\n",
    "X_train_setvir, X_val_setvir, y_train_setvir, y_val_setvir = train_test_split(X_trainval_setvir, y_valtrain_setvir, test_size=0.2, random_state=42)\n",
    "\n",
    "X_trainval_vervir, X_test_vervir, y_valtrain_vervir, y_test_vervir = train_test_split(X_vervir, y_vervir, test_size=0.2, random_state=42)\n",
    "X_train_vervir, X_val_vervir, y_train_vervir, y_val_vervir = train_test_split(X_trainval_vervir, y_valtrain_vervir, test_size=0.2, random_state=42)"
   ]
  },
  {
   "cell_type": "markdown",
   "metadata": {},
   "source": [
    "#### Poprawianie targets"
   ]
  },
  {
   "cell_type": "code",
   "execution_count": 126,
   "metadata": {},
   "outputs": [],
   "source": [
    "# setosa values = -1 / versicolor = 1\n",
    "y_train_setver = SVM.correct_targets_cat(y_train_setver, {'setosa': -1, 'versicolor': 1})\n",
    "y_val_setver = SVM.correct_targets_cat(y_val_setver, {'setosa': -1, 'versicolor': 1})\n",
    "y_test_setver = SVM.correct_targets_cat(y_test_setver, {'setosa': -1, 'versicolor': 1})\n",
    "\n",
    "# setosa values = -1 / virginica = 1\n",
    "y_train_setvir = SVM.correct_targets_cat(y_train_setvir, {'setosa': -1, 'virginica': 1})\n",
    "y_val_setvir = SVM.correct_targets_cat(y_val_setvir, {'setosa': -1, 'virginica': 1})\n",
    "y_test_setvir = SVM.correct_targets_cat(y_test_setvir, {'setosa': -1, 'virginica': 1})\n",
    "\n",
    "# virginica = -1 / versicolor = 1\n",
    "y_train_vervir = SVM.correct_targets_cat(y_train_vervir, {'virginica': -1, 'versicolor': 1})\n",
    "y_val_vervir = SVM.correct_targets_cat(y_val_vervir, {'virginica': -1, 'versicolor': 1})\n",
    "y_test_vervir = SVM.correct_targets_cat(y_test_vervir, {'virginica': -1, 'versicolor': 1})"
   ]
  },
  {
   "cell_type": "markdown",
   "metadata": {},
   "source": [
    "+ Dodatkowo funkcja walidująca ze zbiorem możliwych lambd - **lambdas = [0.0001, 0.0005, 0.001, 0.005, 0.01, 0.05, 0.1, 0.5, 1, 5]**:"
   ]
  },
  {
   "cell_type": "code",
   "execution_count": 127,
   "metadata": {},
   "outputs": [],
   "source": [
    "lambdas = [0.0001, 0.0005, 0.001, 0.005, 0.01, 0.05, 0.1, 0.5, 1, 5]\n",
    "\n",
    "def validate_model(training_set_x, training_set_y, validating_set_x, validating_set_y):\n",
    "    best_model = None\n",
    "    best_lambda = None\n",
    "    best_score = - math.inf\n",
    "    for param_lambda in lambdas:\n",
    "        model = SVM(lambd=param_lambda, mapper_params={1:1, -1:-1})\n",
    "        model.fit(training_set_x, training_set_y)\n",
    "        results_validating = model.predict(validating_set_x)\n",
    "        \n",
    "        n_of_successes = 0\n",
    "        for x, y in zip(results_validating, validating_set_y):\n",
    "            if x == y:\n",
    "                n_of_successes += 1\n",
    "        \n",
    "        print(f\"Validating model with lambda: {param_lambda} gave score: {n_of_successes / len(results_validating)}\")\n",
    "        \n",
    "        # as long as new score is not worse than actual best, lambda should be maximized\n",
    "        if (n_of_successes / len(results_validating) >= best_score):      \n",
    "            best_score = n_of_successes / len(results_validating)\n",
    "            best_lambda = param_lambda\n",
    "            best_model = model\n",
    "    \n",
    "    print(f\"Best lambda for this validation equals: {best_lambda} with score: {best_score}\")\n",
    "    return best_model"
   ]
  },
  {
   "cell_type": "markdown",
   "metadata": {},
   "source": [
    "### Setosa-Versicolor\n"
   ]
  },
  {
   "cell_type": "code",
   "execution_count": 128,
   "metadata": {},
   "outputs": [
    {
     "name": "stdout",
     "output_type": "stream",
     "text": [
      "Validating model with lambda: 0.0001 gave score: 1.0\n",
      "Validating model with lambda: 0.0005 gave score: 1.0\n",
      "Validating model with lambda: 0.001 gave score: 1.0\n",
      "Validating model with lambda: 0.005 gave score: 1.0\n",
      "Validating model with lambda: 0.01 gave score: 1.0\n",
      "Validating model with lambda: 0.05 gave score: 1.0\n",
      "Validating model with lambda: 0.1 gave score: 1.0\n",
      "Validating model with lambda: 0.5 gave score: 1.0\n",
      "Validating model with lambda: 1 gave score: 1.0\n",
      "Validating model with lambda: 5 gave score: 1.0\n",
      "Best lambda for this validation equals: 5 with score: 1.0\n"
     ]
    }
   ],
   "source": [
    "model41 = validate_model(X_train_setver, y_train_setver, X_val_setver, y_val_setver)"
   ]
  },
  {
   "cell_type": "markdown",
   "metadata": {},
   "source": [
    "+ parametry jakie zostały ustalone dla najlepszego modelu:"
   ]
  },
  {
   "cell_type": "code",
   "execution_count": 137,
   "metadata": {},
   "outputs": [
    {
     "data": {
      "text/plain": [
       "(array([[ 0.15182906],\n",
       "        [-0.77608794],\n",
       "        [ 1.73505133],\n",
       "        [ 0.71561582]]),\n",
       " array([4.34]))"
      ]
     },
     "execution_count": 137,
     "metadata": {},
     "output_type": "execute_result"
    }
   ],
   "source": [
    "model41.W, model41.b"
   ]
  },
  {
   "cell_type": "markdown",
   "metadata": {},
   "source": [
    "+ klasy do jakich model przydzielił poszczególne elementy zbioru testowego:"
   ]
  },
  {
   "cell_type": "code",
   "execution_count": 130,
   "metadata": {},
   "outputs": [
    {
     "data": {
      "text/plain": [
       "array([ 1,  1,  1, -1, -1, -1, -1,  1, -1, -1, -1, -1,  1, -1,  1, -1,  1,\n",
       "        1, -1, -1])"
      ]
     },
     "execution_count": 130,
     "metadata": {},
     "output_type": "execute_result"
    }
   ],
   "source": [
    "results_testing_41 = model41.predict(X_test_setver)\n",
    "\n",
    "results_testing_41"
   ]
  },
  {
   "cell_type": "markdown",
   "metadata": {},
   "source": [
    "+ wyniki, jakie powinny zostać otrzymane:"
   ]
  },
  {
   "cell_type": "code",
   "execution_count": 131,
   "metadata": {},
   "outputs": [
    {
     "data": {
      "text/plain": [
       "array([[ 1],\n",
       "       [ 1],\n",
       "       [ 1],\n",
       "       [-1],\n",
       "       [-1],\n",
       "       [-1],\n",
       "       [-1],\n",
       "       [ 1],\n",
       "       [-1],\n",
       "       [-1],\n",
       "       [-1],\n",
       "       [-1],\n",
       "       [ 1],\n",
       "       [-1],\n",
       "       [ 1],\n",
       "       [-1],\n",
       "       [ 1],\n",
       "       [ 1],\n",
       "       [-1],\n",
       "       [-1]], dtype=int64)"
      ]
     },
     "execution_count": 131,
     "metadata": {},
     "output_type": "execute_result"
    }
   ],
   "source": [
    "y_test_setver"
   ]
  },
  {
   "cell_type": "markdown",
   "metadata": {},
   "source": [
    "+ otrzymany sukces:"
   ]
  },
  {
   "cell_type": "code",
   "execution_count": 132,
   "metadata": {},
   "outputs": [
    {
     "name": "stdout",
     "output_type": "stream",
     "text": [
      "Success percent: 100.0%\n"
     ]
    }
   ],
   "source": [
    "def get_success_percent(model_results, official_results):\n",
    "    sum = 0\n",
    "    for x, y in zip(model_results, official_results):\n",
    "        if x==y:\n",
    "            sum+=1\n",
    "    fraction = sum / len(model_results)\n",
    "    print(f\"Success percent: {100*fraction}%\")\n",
    "\n",
    "get_success_percent(results_testing_41, y_test_setver)"
   ]
  },
  {
   "cell_type": "markdown",
   "metadata": {},
   "source": [
    "### Setosa-Virginica"
   ]
  },
  {
   "cell_type": "code",
   "execution_count": 133,
   "metadata": {},
   "outputs": [
    {
     "name": "stdout",
     "output_type": "stream",
     "text": [
      "Validating model with lambda: 0.0001 gave score: 1.0\n",
      "Validating model with lambda: 0.0005 gave score: 1.0\n",
      "Validating model with lambda: 0.001 gave score: 1.0\n",
      "Validating model with lambda: 0.005 gave score: 1.0\n",
      "Validating model with lambda: 0.01 gave score: 1.0\n",
      "Validating model with lambda: 0.05 gave score: 1.0\n",
      "Validating model with lambda: 0.1 gave score: 1.0\n",
      "Validating model with lambda: 0.5 gave score: 1.0\n",
      "Validating model with lambda: 1 gave score: 0.5\n",
      "Validating model with lambda: 5 gave score: 0.5\n",
      "Best lambda for this validation equals: 0.5 with score: 1.0\n"
     ]
    }
   ],
   "source": [
    "model42 = validate_model(X_train_setvir, y_train_setvir, X_val_setvir, y_val_setvir)"
   ]
  },
  {
   "cell_type": "markdown",
   "metadata": {},
   "source": [
    "+ parametry $ w $, $ b $  jakie zostały ustalone:"
   ]
  },
  {
   "cell_type": "code",
   "execution_count": 136,
   "metadata": {},
   "outputs": [
    {
     "data": {
      "text/plain": [
       "(array([[ 0.29986404],\n",
       "        [-0.08306566],\n",
       "        [ 0.89191076],\n",
       "        [ 0.39357225]]),\n",
       " array([4.86]))"
      ]
     },
     "execution_count": 136,
     "metadata": {},
     "output_type": "execute_result"
    }
   ],
   "source": [
    "model42.W, model42.b"
   ]
  },
  {
   "cell_type": "markdown",
   "metadata": {},
   "source": [
    "+ klasy do jakich model przydzielił poszczególne elementy zbioru testowego:"
   ]
  },
  {
   "cell_type": "code",
   "execution_count": 138,
   "metadata": {},
   "outputs": [
    {
     "data": {
      "text/plain": [
       "array([ 1,  1,  1, -1, -1, -1, -1,  1, -1, -1, -1, -1,  1, -1,  1, -1,  1,\n",
       "        1, -1, -1])"
      ]
     },
     "execution_count": 138,
     "metadata": {},
     "output_type": "execute_result"
    }
   ],
   "source": [
    "results_testing_42 = model42.predict(X_test_setvir)\n",
    "\n",
    "results_testing_42"
   ]
  },
  {
   "cell_type": "markdown",
   "metadata": {},
   "source": [
    "+ wyniki, jakie powinny zostać otrzymane:"
   ]
  },
  {
   "cell_type": "code",
   "execution_count": 139,
   "metadata": {},
   "outputs": [
    {
     "data": {
      "text/plain": [
       "array([[ 1],\n",
       "       [ 1],\n",
       "       [ 1],\n",
       "       [-1],\n",
       "       [-1],\n",
       "       [-1],\n",
       "       [-1],\n",
       "       [ 1],\n",
       "       [-1],\n",
       "       [-1],\n",
       "       [-1],\n",
       "       [-1],\n",
       "       [ 1],\n",
       "       [-1],\n",
       "       [ 1],\n",
       "       [-1],\n",
       "       [ 1],\n",
       "       [ 1],\n",
       "       [-1],\n",
       "       [-1]], dtype=int64)"
      ]
     },
     "execution_count": 139,
     "metadata": {},
     "output_type": "execute_result"
    }
   ],
   "source": [
    "y_test_setvir"
   ]
  },
  {
   "cell_type": "markdown",
   "metadata": {},
   "source": [
    "+ procent sukcesu:"
   ]
  },
  {
   "cell_type": "code",
   "execution_count": 140,
   "metadata": {},
   "outputs": [
    {
     "name": "stdout",
     "output_type": "stream",
     "text": [
      "Success percent: 100.0%\n"
     ]
    }
   ],
   "source": [
    "get_success_percent(results_testing_42, y_test_setvir)"
   ]
  },
  {
   "cell_type": "markdown",
   "metadata": {},
   "source": [
    "### Virginica-Versicolor"
   ]
  },
  {
   "cell_type": "code",
   "execution_count": 146,
   "metadata": {},
   "outputs": [
    {
     "name": "stdout",
     "output_type": "stream",
     "text": [
      "Validating model with lambda: 0.0001 gave score: 1.0\n",
      "Validating model with lambda: 0.0005 gave score: 1.0\n",
      "Validating model with lambda: 0.001 gave score: 1.0\n",
      "Validating model with lambda: 0.005 gave score: 1.0\n",
      "Validating model with lambda: 0.01 gave score: 0.6875\n",
      "Validating model with lambda: 0.05 gave score: 1.0\n",
      "Validating model with lambda: 0.1 gave score: 1.0\n",
      "Validating model with lambda: 0.5 gave score: 0.6875\n",
      "Validating model with lambda: 1 gave score: 0.5625\n",
      "Validating model with lambda: 5 gave score: 0.5\n",
      "Best lambda for this validation equals: 0.1 with score: 1.0\n"
     ]
    }
   ],
   "source": [
    "model43 = validate_model(X_train_vervir, y_train_vervir, X_val_vervir, y_val_vervir)"
   ]
  },
  {
   "cell_type": "markdown",
   "metadata": {},
   "source": [
    "+ ustalone parametry:"
   ]
  },
  {
   "cell_type": "code",
   "execution_count": 142,
   "metadata": {},
   "outputs": [
    {
     "data": {
      "text/plain": [
       "(array([[ 1.64554248],\n",
       "        [ 1.48600023],\n",
       "        [-5.85961605],\n",
       "        [-4.24463236]]),\n",
       " array([-22.02]))"
      ]
     },
     "execution_count": 142,
     "metadata": {},
     "output_type": "execute_result"
    }
   ],
   "source": [
    "model43.W, model43.b"
   ]
  },
  {
   "cell_type": "markdown",
   "metadata": {},
   "source": [
    "+ Klasy do jakich przydzielone zostały poszczególne elementy zbioru testowego:"
   ]
  },
  {
   "cell_type": "code",
   "execution_count": 143,
   "metadata": {},
   "outputs": [
    {
     "data": {
      "text/plain": [
       "array([ 1, -1, -1,  1,  1,  1,  1, -1,  1,  1,  1,  1,  1, -1, -1,  1,  1,\n",
       "        1,  1,  1])"
      ]
     },
     "execution_count": 143,
     "metadata": {},
     "output_type": "execute_result"
    }
   ],
   "source": [
    "results_testing_43 = model43.predict(X_test_vervir)\n",
    "\n",
    "results_testing_43"
   ]
  },
  {
   "cell_type": "markdown",
   "metadata": {},
   "source": [
    "+ wyniki, jakie powinny zostać otrzymane:"
   ]
  },
  {
   "cell_type": "code",
   "execution_count": 144,
   "metadata": {},
   "outputs": [
    {
     "data": {
      "text/plain": [
       "array([[-1],\n",
       "       [-1],\n",
       "       [-1],\n",
       "       [ 1],\n",
       "       [ 1],\n",
       "       [ 1],\n",
       "       [ 1],\n",
       "       [-1],\n",
       "       [ 1],\n",
       "       [ 1],\n",
       "       [ 1],\n",
       "       [ 1],\n",
       "       [-1],\n",
       "       [ 1],\n",
       "       [-1],\n",
       "       [ 1],\n",
       "       [-1],\n",
       "       [-1],\n",
       "       [ 1],\n",
       "       [ 1]], dtype=int64)"
      ]
     },
     "execution_count": 144,
     "metadata": {},
     "output_type": "execute_result"
    }
   ],
   "source": [
    "y_test_vervir"
   ]
  },
  {
   "cell_type": "markdown",
   "metadata": {},
   "source": [
    "+ procent sukcesu:"
   ]
  },
  {
   "cell_type": "code",
   "execution_count": 145,
   "metadata": {},
   "outputs": [
    {
     "name": "stdout",
     "output_type": "stream",
     "text": [
      "Success percent: 75.0%\n"
     ]
    }
   ],
   "source": [
    "get_success_percent(results_testing_43, y_test_vervir)"
   ]
  },
  {
   "cell_type": "markdown",
   "metadata": {},
   "source": [
    "## Wnioski\n",
    "+ Na podstawie 3 zamieszczonych wyżej klasyfikacji można zauważyć jak istotny jest parametr λ dla metody SVM.\n",
    "+ Patrząc na wykresy w punkcie 2., można zauważyć, że niezależnie od doboru cech zbiór setosa można odseparować liniowo od pozostałych zbiorów cech.\n",
    "+ Inna sytuacja występuje w przypadku zależności między parą virginica-versicolor: na każdym wykresie elementy z tych dwóch klas znajdują się bardzo blisko siebie i sytuację tą potwierdzają przeprowadzone badania - w przypadku klasyfikacji setosa-versicolor oraz setosa-virginica większa wartość parametru λ (odpowiednio λ=0.5 oraz λ=1) gwarantuje 100% sukces klasyfikacji na zbiorze testowym.\n",
    "+ Różnica występuje w przypadku pary virginica-versicolor - tutaj ustawienie parametru λ na wartość większą 0.05 powodowała, że klasyfikacja na zbiorze walidacyjnym posiadała procent sukcesu = ok. 50% (najprawdopodobniej przypisywała wszystkie obiekty do tylko jednej klasy); dopiero zmniejszenie λ do wartości 0.0001 zapewniło 87,5% sukces klasyfikacji na zbiorze walidacyjnym i  100% sukces klasyfikacji na zbiorze testowym."
   ]
  }
 ],
 "metadata": {
  "kernelspec": {
   "display_name": "Python 3.10.4 ('ml-scratch')",
   "language": "python",
   "name": "python3"
  },
  "language_info": {
   "codemirror_mode": {
    "name": "ipython",
    "version": 3
   },
   "file_extension": ".py",
   "mimetype": "text/x-python",
   "name": "python",
   "nbconvert_exporter": "python",
   "pygments_lexer": "ipython3",
   "version": "3.10.4"
  },
  "vscode": {
   "interpreter": {
    "hash": "2c5272c2a98c4a5d34420ba7c3358021531e33e70f42d78a110d51f657555bbd"
   }
  }
 },
 "nbformat": 4,
 "nbformat_minor": 2
}
